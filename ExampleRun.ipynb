{
 "cells": [
  {
   "cell_type": "code",
   "execution_count": 1,
   "metadata": {},
   "outputs": [],
   "source": [
    "from WaiterService import *\n",
    "from AdminService import *\n",
    "from ChefService import *\n",
    "from ReceptionistService import *\n",
    "from constants import *"
   ]
  },
  {
   "cell_type": "code",
   "execution_count": 2,
   "metadata": {},
   "outputs": [
    {
     "name": "stdout",
     "output_type": "stream",
     "text": [
      "The tasks that can be performed by you are - \n",
      "To Manage Chef Employement - ChefEmploymentService\n",
      "To manage Receptionist Employement - ReceptionistEmploymentService\n",
      "To manage Waiter Employement - WaiterEmploymentService \n",
      "To manage Menu and its items - MenuService\n",
      "To manage Tables - TableService\n"
     ]
    }
   ],
   "source": [
    "# AdminService is used to access all the services to be done by admin\n",
    "admin = AdminService()\n",
    "admin.ShowServices()"
   ]
  },
  {
   "cell_type": "code",
   "execution_count": 3,
   "metadata": {},
   "outputs": [
    {
     "name": "stdout",
     "output_type": "stream",
     "text": [
      "Password Validated...You are logged in\n"
     ]
    }
   ],
   "source": [
    "#Put the password to access Menu related service..\n",
    "menuservice = admin.MenuService(\"Manager@12\")"
   ]
  },
  {
   "cell_type": "code",
   "execution_count": 4,
   "metadata": {},
   "outputs": [],
   "source": [
    "#Passord validated...Now admin can add menu items in the menu\n",
    "#To add an item admin need to give id, title, description and price of the item in AddMenuItems() method.\n",
    "menuservice.AddMenuItems(1, \"Pizza\", \"Tandoori Panner Pizza\", 300)\n",
    "menuservice.AddMenuItems(2, \"Chowmein\", \"This is served with extra sauce and manchurian gravy\", 150)\n",
    "menuservice.AddMenuItems(3, \"Dosa\", \"This is Masala Dosa...Hope you like it!\", 100)\n",
    "menuservice.AddMenuItems(4, \"Ice cream\", \"This is Vanilla flavoured cone icecream...\", 70)"
   ]
  },
  {
   "cell_type": "code",
   "execution_count": 5,
   "metadata": {},
   "outputs": [
    {
     "name": "stdout",
     "output_type": "stream",
     "text": [
      "Password Validated...You are logged in\n"
     ]
    }
   ],
   "source": [
    "#Put the password, branchname and address to access table related management service.\n",
    "tableservice = admin.TableService(\"Manager@12\", \"Family Restaurant\", \"Patna\")"
   ]
  },
  {
   "cell_type": "code",
   "execution_count": 6,
   "metadata": {},
   "outputs": [],
   "source": [
    "#To add table admin need to give table number and type of table. Default type is REGULAR.\n",
    "tableservice.AddTable(1)\n",
    "tableservice.AddTable(2, TableType.DELUX)\n",
    "tableservice.AddTable(3, TableType.SUPERDELUX)\n",
    "tableservice.AddTable(4)"
   ]
  },
  {
   "cell_type": "code",
   "execution_count": 7,
   "metadata": {},
   "outputs": [
    {
     "name": "stdout",
     "output_type": "stream",
     "text": [
      "Password Validated...You are logged in\n"
     ]
    }
   ],
   "source": [
    "#Put the password, branchname and address in ChefManagementService() to access chef management service\n",
    "chefManagementService = admin.ChefManagementService(\"Manager@12\", \"Family Restaurant\", \"Patna\")"
   ]
  },
  {
   "cell_type": "code",
   "execution_count": 8,
   "metadata": {},
   "outputs": [],
   "source": [
    "#To add chefs put name of chef, mobile number, email, id, password and salary in AddEmployee()\n",
    "chefManagementService.AddEmployee(\"Ram\", '7310987654', 'ram@gmail.com', 1, \"ramchef\", 20000)\n",
    "chefManagementService.AddEmployee(\"Shyam\", '7310987354', 'shyam@gmail.com', 2, \"shyamchef\", 20000)"
   ]
  },
  {
   "cell_type": "code",
   "execution_count": 9,
   "metadata": {},
   "outputs": [
    {
     "name": "stdout",
     "output_type": "stream",
     "text": [
      "Password Validated...You are logged in\n"
     ]
    }
   ],
   "source": [
    "#Similarly added waiters\n",
    "waiterManagementService = admin.WaiterManagementService(\"Manager@12\", \"Family Restaurant\", \"Patna\")"
   ]
  },
  {
   "cell_type": "code",
   "execution_count": 10,
   "metadata": {},
   "outputs": [],
   "source": [
    "waiterManagementService.AddEmployee(\"Mohit\", '6310987654', 'mohit@gmail.com', 1, \"mohitwaiter\", 10000)\n",
    "waiterManagementService.AddEmployee(\"Rohit\", '2310987354', 'rohit@gmail.com', 2, \"rohitwaiter\", 10000)"
   ]
  },
  {
   "cell_type": "code",
   "execution_count": 11,
   "metadata": {},
   "outputs": [
    {
     "name": "stdout",
     "output_type": "stream",
     "text": [
      "Password Validated...You are logged in\n"
     ]
    }
   ],
   "source": [
    "#Similary added receptionist\n",
    "receptionistManagementService = admin.ReceptionistManagementService(\"Manager@12\", \"Family Restaurant\", \"Patna\")"
   ]
  },
  {
   "cell_type": "code",
   "execution_count": 12,
   "metadata": {},
   "outputs": [],
   "source": [
    "receptionistManagementService.AddEmployee(\"Neha\", '9568987654', 'neha@gmail.com', 1, \"nehareceptionist\", 12000)"
   ]
  },
  {
   "cell_type": "code",
   "execution_count": 13,
   "metadata": {},
   "outputs": [
    {
     "name": "stdout",
     "output_type": "stream",
     "text": [
      "The tasks that can be performed by you are - \n",
      "To book and welcome guest -  WelcomeService\n",
      "To manage guest exit - CheckoutService\n"
     ]
    }
   ],
   "source": [
    "#ReceptionistService is used to access all the tasks to be done by receptionist.\n",
    "#Put receptionist id, password, branchname and address.\n",
    "receptionist = ReceptionistService(1, \"nehareceptionist\", \"Family Restaurant\", \"Patna\")\n",
    "receptionist.ShowServices()"
   ]
  },
  {
   "cell_type": "code",
   "execution_count": 14,
   "metadata": {},
   "outputs": [
    {
     "name": "stdout",
     "output_type": "stream",
     "text": [
      "Password is correct. Logged in successfully\n"
     ]
    }
   ],
   "source": [
    "#If password is correct the receptionist will be able to login...\n",
    "welcomeservice = receptionist.WelcomeService()"
   ]
  },
  {
   "cell_type": "code",
   "execution_count": 15,
   "metadata": {},
   "outputs": [
    {
     "name": "stdout",
     "output_type": "stream",
     "text": [
      "You can occupy table-  1\n"
     ]
    }
   ],
   "source": [
    "#This shows a free table of the type given\n",
    "welcomeservice.ShowFreeTable(TableType.REGULAR)"
   ]
  },
  {
   "cell_type": "code",
   "execution_count": 16,
   "metadata": {},
   "outputs": [
    {
     "name": "stdout",
     "output_type": "stream",
     "text": [
      "Table Number 1 is occupied by Rahul\n"
     ]
    }
   ],
   "source": [
    "#Receptionist can provide table number 1 to the customer. Table number, customer name, phone and email is to be given.\n",
    "welcomeservice.OccupyTable(1, \"Rahul\", \"7890456783\", \"rahul@gmail.com\")"
   ]
  },
  {
   "cell_type": "code",
   "execution_count": 17,
   "metadata": {},
   "outputs": [
    {
     "name": "stdout",
     "output_type": "stream",
     "text": [
      "You can occupy table-  2\n"
     ]
    }
   ],
   "source": [
    "#Now a customer want to occupy DELUX seat..receptionist will show the free table.\n",
    "welcomeservice.ShowFreeTable(TableType.DELUX)"
   ]
  },
  {
   "cell_type": "code",
   "execution_count": 18,
   "metadata": {},
   "outputs": [
    {
     "name": "stdout",
     "output_type": "stream",
     "text": [
      "Table Number 2 is occupied by Sneha\n"
     ]
    }
   ],
   "source": [
    "welcomeservice.OccupyTable(2, \"Sneha\", \"8890456783\", \"sneha@gmail.com\")"
   ]
  },
  {
   "cell_type": "code",
   "execution_count": 19,
   "metadata": {},
   "outputs": [
    {
     "name": "stdout",
     "output_type": "stream",
     "text": [
      "The tasks that can be performed by you are - \n",
      "To take and manage order from customer - CustomerService\n",
      "To Calculate & show Bill - BillService\n",
      "To Collect Payment - PaymentService\n"
     ]
    }
   ],
   "source": [
    "#A waiter can access all tasks through WaiterService..id, password, restaurant, address is to be given.\n",
    "waiter1 = WaiterService(2, \"rohitwaiter\", \"Family Restaurant\", \"Patna\")\n",
    "waiter1.ShowServices()"
   ]
  },
  {
   "cell_type": "code",
   "execution_count": 20,
   "metadata": {},
   "outputs": [
    {
     "name": "stdout",
     "output_type": "stream",
     "text": [
      "Password is correct. Logged in successfully\n"
     ]
    }
   ],
   "source": [
    "#waiter1 go to table to start CustomerService to take order from customer at table number 1\n",
    "customerservice1 = waiter1.CustomerService(1, 1, 2)"
   ]
  },
  {
   "cell_type": "code",
   "execution_count": 21,
   "metadata": {},
   "outputs": [
    {
     "name": "stdout",
     "output_type": "stream",
     "text": [
      "Order is received..order number -  1\n"
     ]
    }
   ],
   "source": [
    "#now the waiter received the order whose id is 1..\n",
    "customerservice1.RecieveOrder()"
   ]
  },
  {
   "cell_type": "code",
   "execution_count": 22,
   "metadata": {},
   "outputs": [
    {
     "name": "stdout",
     "output_type": "stream",
     "text": [
      "Followings items are available in our Restaurant...\n",
      "1 Pizza 300\n",
      "Tandoori Panner Pizza\n",
      "2 Chowmein 150\n",
      "This is served with extra sauce and manchurian gravy\n",
      "3 Dosa 100\n",
      "This is Masala Dosa...Hope you like it!\n",
      "4 Ice cream 70\n",
      "This is Vanilla flavoured cone icecream...\n"
     ]
    }
   ],
   "source": [
    "#The entire menu of the restaurant is shown with all details - item id, name, price and description\n",
    "customerservice1.ShowMenu()"
   ]
  },
  {
   "cell_type": "code",
   "execution_count": 23,
   "metadata": {},
   "outputs": [],
   "source": [
    "#The waiter adds the menu items in the order acording to customer wish using menu item id in AddOrderItems()\n",
    "customerservice1.AddOrderItems(1)\n",
    "customerservice1.AddOrderItems(2)"
   ]
  },
  {
   "cell_type": "code",
   "execution_count": 24,
   "metadata": {},
   "outputs": [],
   "source": [
    "#Another waiter, Mohit gave his id, password, branchname and address to access Waiter related tasks...\n",
    "waiter2 = WaiterService(1, \"mohitwaitr\", \"Family Restaurant\", \"Patna\")"
   ]
  },
  {
   "cell_type": "code",
   "execution_count": 25,
   "metadata": {},
   "outputs": [
    {
     "name": "stdout",
     "output_type": "stream",
     "text": [
      "The tasks that can be performed by you are - \n",
      "To take and manage order from customer - CustomerService\n",
      "To Calculate & show Bill - BillService\n",
      "To Collect Payment - PaymentService\n"
     ]
    }
   ],
   "source": [
    "waiter2.ShowServices()"
   ]
  },
  {
   "cell_type": "code",
   "execution_count": 26,
   "metadata": {},
   "outputs": [
    {
     "name": "stdout",
     "output_type": "stream",
     "text": [
      "Id or password is invalid...Try Again!\n",
      "As the password is incorrect you will not be able to receive order using this service...\n"
     ]
    }
   ],
   "source": [
    "#As Mohit has entered wrong password he was not able to access.\n",
    "customerservice2 = waiter2.CustomerService(2, 2, 1)\n",
    "try:\n",
    "    customerservice2.RecieveOrder()\n",
    "except:\n",
    "    print(\"As the password is incorrect you will not be able to receive order using this service...\")"
   ]
  },
  {
   "cell_type": "code",
   "execution_count": 27,
   "metadata": {},
   "outputs": [
    {
     "name": "stdout",
     "output_type": "stream",
     "text": [
      "Password is correct. Logged in successfully\n"
     ]
    }
   ],
   "source": [
    "#Now Mohit will again give right credentials and try to access-\n",
    "waiter2 = WaiterService(1, \"mohitwaiter\", \"Family Restaurant\", \"Patna\")\n",
    "customerservice2 = waiter2.CustomerService(2, 2, 1)"
   ]
  },
  {
   "cell_type": "code",
   "execution_count": 28,
   "metadata": {},
   "outputs": [
    {
     "name": "stdout",
     "output_type": "stream",
     "text": [
      "Order is received..order number -  2\n"
     ]
    }
   ],
   "source": [
    "#waiter2 takes order with order id 2...\n",
    "customerservice2.RecieveOrder()"
   ]
  },
  {
   "cell_type": "code",
   "execution_count": 29,
   "metadata": {},
   "outputs": [
    {
     "name": "stdout",
     "output_type": "stream",
     "text": [
      "Followings items are available in our Restaurant...\n",
      "1 Pizza 300\n",
      "Tandoori Panner Pizza\n",
      "2 Chowmein 150\n",
      "This is served with extra sauce and manchurian gravy\n",
      "3 Dosa 100\n",
      "This is Masala Dosa...Hope you like it!\n",
      "4 Ice cream 70\n",
      "This is Vanilla flavoured cone icecream...\n"
     ]
    }
   ],
   "source": [
    "#Showed the menu to the customer-\n",
    "customerservice2.ShowMenu()"
   ]
  },
  {
   "cell_type": "code",
   "execution_count": 30,
   "metadata": {},
   "outputs": [],
   "source": [
    "#Mohit added items in the order according to cutomer's wish by providing id in AddOrderItems()\n",
    "customerservice2.AddOrderItems(3)\n",
    "customerservice2.AddOrderItems(4)"
   ]
  },
  {
   "cell_type": "code",
   "execution_count": 31,
   "metadata": {},
   "outputs": [
    {
     "name": "stdout",
     "output_type": "stream",
     "text": [
      "The tasks that can be performed by you are - \n",
      "To prepare & complete cooking an order - CookingService\n"
     ]
    }
   ],
   "source": [
    "#Now Ram, the chef tries to access ChefService to perform his tasks...\n",
    "chef1 = ChefService(1, \"ramchef\", \"Family Restaurant\", \"Patna\" )\n",
    "chef1.ShowServices()"
   ]
  },
  {
   "cell_type": "code",
   "execution_count": 32,
   "metadata": {},
   "outputs": [
    {
     "name": "stdout",
     "output_type": "stream",
     "text": [
      "Password is correct. Logged in successfully\n"
     ]
    }
   ],
   "source": [
    "#Ram want to access the cooking related service. As the password is correct he will be able to...\n",
    "cookingservice1 = chef1.CookingService()"
   ]
  },
  {
   "cell_type": "code",
   "execution_count": 33,
   "metadata": {},
   "outputs": [
    {
     "name": "stdout",
     "output_type": "stream",
     "text": [
      "All pending orders are - \n",
      "1 Pizza Chowmein \n",
      "2 Dosa Ice cream \n"
     ]
    }
   ],
   "source": [
    "#Used this to get all the pending orders left to cook..\n",
    "cookingservice1.GetPendingOrdersList()"
   ]
  },
  {
   "cell_type": "code",
   "execution_count": 34,
   "metadata": {},
   "outputs": [
    {
     "name": "stdout",
     "output_type": "stream",
     "text": [
      "Preparing food....with order number  1\n"
     ]
    }
   ],
   "source": [
    "#He chose order with id 1\n",
    "cookingservice1.CookOrder(1)"
   ]
  },
  {
   "cell_type": "code",
   "execution_count": 35,
   "metadata": {},
   "outputs": [
    {
     "name": "stdout",
     "output_type": "stream",
     "text": [
      "The tasks that can be performed by you are - \n",
      "To prepare & complete cooking an order - CookingService\n"
     ]
    }
   ],
   "source": [
    "#Now another chef, Shyam gave his id, password, branchname and address to perform his tasks..\n",
    "chef2 = ChefService(2, \"shyamchef\", \"Family Restaurant\", \"Patna\" )\n",
    "chef2.ShowServices()"
   ]
  },
  {
   "cell_type": "code",
   "execution_count": 36,
   "metadata": {},
   "outputs": [
    {
     "name": "stdout",
     "output_type": "stream",
     "text": [
      "Password is correct. Logged in successfully\n"
     ]
    }
   ],
   "source": [
    "#Paaword is correct. He will be able to access..\n",
    "cookingservice2 = chef2.CookingService()"
   ]
  },
  {
   "cell_type": "code",
   "execution_count": 37,
   "metadata": {},
   "outputs": [
    {
     "name": "stdout",
     "output_type": "stream",
     "text": [
      "All pending orders are - \n",
      "2 Dosa Ice cream \n"
     ]
    }
   ],
   "source": [
    "#Only order number 2 is left to cook..\n",
    "cookingservice2.GetPendingOrdersList()"
   ]
  },
  {
   "cell_type": "code",
   "execution_count": 38,
   "metadata": {},
   "outputs": [
    {
     "name": "stdout",
     "output_type": "stream",
     "text": [
      "Preparing food....with order number  2\n"
     ]
    }
   ],
   "source": [
    "#Shyam will cook order number 2\n",
    "cookingservice2.CookOrder(2)"
   ]
  },
  {
   "cell_type": "code",
   "execution_count": 39,
   "metadata": {},
   "outputs": [
    {
     "name": "stdout",
     "output_type": "stream",
     "text": [
      "Order is being prepared..Wait\n"
     ]
    },
    {
     "data": {
      "text/plain": [
       "<OrderStatus.PREPARING: 2>"
      ]
     },
     "execution_count": 39,
     "metadata": {},
     "output_type": "execute_result"
    }
   ],
   "source": [
    "#Meanwhile Rohit, the waiter want to get the status of the order taken by him(order 1)..\n",
    "customerservice1.GetOrderStatus()"
   ]
  },
  {
   "cell_type": "code",
   "execution_count": 40,
   "metadata": {},
   "outputs": [
    {
     "name": "stdout",
     "output_type": "stream",
     "text": [
      "Food is prepared completely....Waiter can serve. The order number is  1\n"
     ]
    }
   ],
   "source": [
    "#Chef Ram completely cooked the order and updated\n",
    "cookingservice1.CompleteOrder(1)"
   ]
  },
  {
   "cell_type": "code",
   "execution_count": 41,
   "metadata": {},
   "outputs": [
    {
     "name": "stdout",
     "output_type": "stream",
     "text": [
      "Food is prepared completely....Waiter can serve. The order number is  2\n"
     ]
    }
   ],
   "source": [
    "#Chef Shyam completely cooked the order and updated\n",
    "cookingservice2.CompleteOrder(2)"
   ]
  },
  {
   "cell_type": "code",
   "execution_count": 42,
   "metadata": {},
   "outputs": [
    {
     "name": "stdout",
     "output_type": "stream",
     "text": [
      "Food is served...\n"
     ]
    }
   ],
   "source": [
    "#Waiter Rohit can now serve the food of order number 1...\n",
    "customerservice1.ServeOrder()"
   ]
  },
  {
   "cell_type": "code",
   "execution_count": 43,
   "metadata": {},
   "outputs": [
    {
     "name": "stdout",
     "output_type": "stream",
     "text": [
      "Food is served...\n"
     ]
    }
   ],
   "source": [
    "#Waiter Mohit can also serve..of order number 2\n",
    "customerservice2.ServeOrder()"
   ]
  },
  {
   "cell_type": "code",
   "execution_count": 44,
   "metadata": {},
   "outputs": [
    {
     "name": "stdout",
     "output_type": "stream",
     "text": [
      "Password is correct. Logged in successfully\n"
     ]
    }
   ],
   "source": [
    "#Waiter Rohit tried to access BillService to show bill to the customer. He need to provide order number\n",
    "billservice1 = waiter1.BillService(1)"
   ]
  },
  {
   "cell_type": "code",
   "execution_count": 45,
   "metadata": {},
   "outputs": [
    {
     "name": "stdout",
     "output_type": "stream",
     "text": [
      "Pizza 300\n",
      "Chowmein 150\n",
      "Total Bill including 18 percent GST is  531.0\n"
     ]
    }
   ],
   "source": [
    "#ShowBill() used to show bill\n",
    "billservice1.ShowBill()"
   ]
  },
  {
   "cell_type": "code",
   "execution_count": 46,
   "metadata": {},
   "outputs": [
    {
     "name": "stdout",
     "output_type": "stream",
     "text": [
      "Password is correct. Logged in successfully\n"
     ]
    }
   ],
   "source": [
    "#Now Rohit want to access PaymentService. He needs to provide- payment id, order id, amount to be paid and table number..\n",
    "paymentservice1 = waiter1.PaymentService(1, 1, 531.0, 1)"
   ]
  },
  {
   "cell_type": "code",
   "execution_count": 47,
   "metadata": {},
   "outputs": [
    {
     "name": "stdout",
     "output_type": "stream",
     "text": [
      "Payment is received....Thank you!\n"
     ]
    }
   ],
   "source": [
    "paymentservice1.ReceivePayment()"
   ]
  },
  {
   "cell_type": "code",
   "execution_count": 48,
   "metadata": {},
   "outputs": [],
   "source": [
    "#Finally after receiving payment he updates payment record\n",
    "paymentservice1.UpdatePayment(1)"
   ]
  },
  {
   "cell_type": "code",
   "execution_count": 49,
   "metadata": {},
   "outputs": [
    {
     "name": "stdout",
     "output_type": "stream",
     "text": [
      "Password is correct. Logged in successfully\n",
      "Dosa 100\n",
      "Ice cream 70\n",
      "Total Bill including 18 percent GST is  200.6\n"
     ]
    }
   ],
   "source": [
    "#Similary, Mohit showed bill and accepted payment and updated...\n",
    "billservice2 = waiter2.BillService(2)\n",
    "billservice2.ShowBill()"
   ]
  },
  {
   "cell_type": "code",
   "execution_count": 50,
   "metadata": {},
   "outputs": [
    {
     "name": "stdout",
     "output_type": "stream",
     "text": [
      "Password is correct. Logged in successfully\n"
     ]
    }
   ],
   "source": [
    "paymentservice2 = waiter2.PaymentService(2, 2, 200.6, 2)"
   ]
  },
  {
   "cell_type": "code",
   "execution_count": 51,
   "metadata": {},
   "outputs": [
    {
     "name": "stdout",
     "output_type": "stream",
     "text": [
      "Payment is received....Thank you!\n"
     ]
    }
   ],
   "source": [
    "paymentservice2.ReceivePayment()\n",
    "paymentservice2.UpdatePayment(2)"
   ]
  },
  {
   "cell_type": "code",
   "execution_count": 52,
   "metadata": {},
   "outputs": [
    {
     "name": "stdout",
     "output_type": "stream",
     "text": [
      "Password is correct. Logged in successfully\n"
     ]
    }
   ],
   "source": [
    "#Both the customer now want to checkout. Receptionist Neha uses CheckoutService to do the tasks necessary before checkout..\n",
    "checkoutservice = receptionist.CheckoutService()"
   ]
  },
  {
   "cell_type": "code",
   "execution_count": 53,
   "metadata": {},
   "outputs": [
    {
     "name": "stdout",
     "output_type": "stream",
     "text": [
      "You can check out...Thank you\n"
     ]
    }
   ],
   "source": [
    "#Neha asked the table number of the customer named Rahul and checked whether payment is completed or not..\n",
    "checkoutservice.CheckPayment(1)"
   ]
  },
  {
   "cell_type": "code",
   "execution_count": 54,
   "metadata": {},
   "outputs": [
    {
     "name": "stdout",
     "output_type": "stream",
     "text": [
      "Freed Table number -  1\n"
     ]
    }
   ],
   "source": [
    "#After that she updated that the table number 1 is free\n",
    "checkoutservice.FreeTable(1)"
   ]
  },
  {
   "cell_type": "code",
   "execution_count": 55,
   "metadata": {},
   "outputs": [],
   "source": [
    "#She recorded the details of the customer along with the payment amount in CustomerRecords and then she cleared the customer\n",
    "#and payments objects of table number 1 from current storage..\n",
    "checkoutservice.RecordInfo(1)\n",
    "checkoutservice.ClearCustomerAndPayments(1)"
   ]
  },
  {
   "cell_type": "code",
   "execution_count": 56,
   "metadata": {},
   "outputs": [
    {
     "name": "stdout",
     "output_type": "stream",
     "text": [
      "You can check out...Thank you\n"
     ]
    }
   ],
   "source": [
    "#Similary did for customer named Sneha who had ocupied table number 2\n",
    "checkoutservice.CheckPayment(2)"
   ]
  },
  {
   "cell_type": "code",
   "execution_count": 57,
   "metadata": {},
   "outputs": [
    {
     "name": "stdout",
     "output_type": "stream",
     "text": [
      "Freed Table number -  2\n"
     ]
    }
   ],
   "source": [
    "checkoutservice.FreeTable(2)"
   ]
  },
  {
   "cell_type": "code",
   "execution_count": 58,
   "metadata": {},
   "outputs": [],
   "source": [
    "checkoutservice.RecordInfo(2)\n",
    "checkoutservice.ClearCustomerAndPayments(2)"
   ]
  },
  {
   "cell_type": "code",
   "execution_count": null,
   "metadata": {},
   "outputs": [],
   "source": []
  }
 ],
 "metadata": {
  "kernelspec": {
   "display_name": "Python 3",
   "language": "python",
   "name": "python3"
  },
  "language_info": {
   "codemirror_mode": {
    "name": "ipython",
    "version": 3
   },
   "file_extension": ".py",
   "mimetype": "text/x-python",
   "name": "python",
   "nbconvert_exporter": "python",
   "pygments_lexer": "ipython3",
   "version": "3.7.3"
  }
 },
 "nbformat": 4,
 "nbformat_minor": 4
}
